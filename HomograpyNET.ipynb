{
 "cells": [
  {
   "cell_type": "code",
   "execution_count": 1,
   "metadata": {
    "collapsed": false
   },
   "outputs": [
    {
     "name": "stderr",
     "output_type": "stream",
     "text": [
      "Using TensorFlow backend.\n"
     ]
    }
   ],
   "source": [
    "%matplotlib inline\n",
    "from keras.models import Sequential, Model\n",
    "from keras.layers import GlobalAveragePooling2D, Dense, Flatten, Dropout, ELU, BatchNormalization, Lambda, merge, MaxPooling2D, Input, Activation\n",
    "from keras.layers.convolutional import Convolution2D, Cropping2D\n",
    "from keras.utils.visualize_util import plot\n",
    "from keras.optimizers import Adam\n",
    "from keras.callbacks import Callback, RemoteMonitor\n",
    "import keras.backend as K"
   ]
  },
  {
   "cell_type": "markdown",
   "metadata": {},
   "source": [
    "## HomographyNet Model Architecture\n",
    "\n",
    "![alt text](./documentation_images/homographynet.png \"General HomogrophyNet Model Architecture\")"
   ]
  },
  {
   "cell_type": "markdown",
   "metadata": {},
   "source": [
    "## HomographyNet as reported in the paper has two different variants.\n",
    "\n",
    "1. The classification head model variant\n",
    "2. The regression head model variant\n",
    "\n",
    "![alt text](./documentation_images/twoheads.png \"HomogrophyNet Model Variants\")\n",
    "\n",
    "### The version we are going to implement is the Regression head variant!"
   ]
  },
  {
   "cell_type": "code",
   "execution_count": 3,
   "metadata": {
    "collapsed": false
   },
   "outputs": [],
   "source": [
    "def euclidean_distance(y_true, y_pred):\n",
    "    return K.sqrt(K.maximum(K.sum(K.square(y_pred - y_true), axis=-1, keepdims=True), K.epsilon()))\n",
    "\n",
    "def homography_regression_model():\n",
    "    input_shape=(128, 128, 2)\n",
    "    input_img = Input(shape=input_shape)\n",
    "     \n",
    "    x = Convolution2D(64, 3, 3, subsample=(1, 1), border_mode='same', name='conv1', activation='relu')(input_img)\n",
    "    x = Convolution2D(64, 3, 3, subsample=(1, 1), border_mode='same', name='conv2', activation='relu')(x)\n",
    "    x = MaxPooling2D(pool_size=(2, 2), strides=(2, 2), name='pool1')(x)\n",
    "    \n",
    "    x = Convolution2D(64, 3, 3, subsample=(1, 1), border_mode='same', name='conv3', activation='relu')(x)\n",
    "    x = Convolution2D(64, 3, 3, subsample=(1, 1), border_mode='same', name='conv4', activation='relu')(x)\n",
    "    x = MaxPooling2D(pool_size=(2, 2), strides=(2, 2), name='pool2')(x)\n",
    "   \n",
    "    x = Convolution2D(128, 3, 3, subsample=(1, 1), border_mode='same', name='conv5', activation='relu')(x)\n",
    "    x = Convolution2D(128, 3, 3, subsample=(1, 1), border_mode='same', name='conv6', activation='relu')(x)\n",
    "    x = MaxPooling2D(pool_size=(2, 2), strides=(2, 2), name='pool3')(x)\n",
    "    \n",
    "    x = Convolution2D(128, 3, 3, subsample=(1, 1), border_mode='same', name='conv7', activation='relu')(x)\n",
    "    x = Convolution2D(128, 3, 3, subsample=(1, 1), border_mode='same', name='conv8', activation='relu')(x)\n",
    "    \n",
    "    x = Flatten()(x)\n",
    "    x = Dense(1024, name='FC1')\n",
    "    out = Dense(8, name='loss')(x)\n",
    "    \n",
    "    model = Model(input=input_img, output=[out])\n",
    "    plot(model, to_file='HomegraphyNet_Regression.png', show_shapes=True)\n",
    "    \n",
    "    \n",
    "    model.compile(optimizer=Adam(lr=1e-3), loss=euclidean_distance)\n",
    "    return model"
   ]
  },
  {
   "cell_type": "code",
   "execution_count": null,
   "metadata": {
    "collapsed": true
   },
   "outputs": [],
   "source": [
    "model = homography_regression_model()"
   ]
  }
 ],
 "metadata": {
  "kernelspec": {
   "display_name": "Python 3",
   "language": "python",
   "name": "python3"
  },
  "language_info": {
   "codemirror_mode": {
    "name": "ipython",
    "version": 3
   },
   "file_extension": ".py",
   "mimetype": "text/x-python",
   "name": "python",
   "nbconvert_exporter": "python",
   "pygments_lexer": "ipython3",
   "version": "3.5.2"
  },
  "widgets": {
   "state": {},
   "version": "1.1.2"
  }
 },
 "nbformat": 4,
 "nbformat_minor": 2
}
